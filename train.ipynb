{
 "cells": [
  {
   "cell_type": "code",
   "execution_count": null,
   "id": "_kTGu24VwYG4",
   "metadata": {
    "id": "_kTGu24VwYG4"
   },
   "outputs": [],
   "source": [
    "import numpy as np\n",
    "from tqdm import tqdm\n",
    "import torch\n",
    "from torch import nn, optim\n",
    "from torch.optim.lr_scheduler import StepLR\n",
    "import torchvision.transforms as transforms\n",
    "from torch.utils.data import DataLoader, random_split, Dataset\n",
    "import torch.nn.functional as F\n",
    "\n",
    "Q = np.genfromtxt('./data/stiffness.csv', delimiter=',')\n",
    "A = np.genfromtxt('./data/volumefraction.csv', delimiter=',')\n",
    "lamda = ((np.ones((6,6))+np.eye(6))/2).reshape(-1)"
   ]
  },
  {
   "cell_type": "code",
   "execution_count": null,
   "id": "avX5xCKlwYG6",
   "metadata": {
    "id": "avX5xCKlwYG6"
   },
   "outputs": [],
   "source": [
    "init_ODF = np.loadtxt(\"./data/init_ODF.txt\")\n",
    "\n",
    "X = torch.Tensor(init_ODF[:5000])\n",
    "Y = np.zeros((5000, 31, 145))\n",
    "for i in range(31):\n",
    "    Y[:, i, :] = np.loadtxt(f\"./data/train_data/simu{i}_result.txt\")\n",
    "Y = torch.Tensor(Y)"
   ]
  },
  {
   "cell_type": "code",
   "execution_count": null,
   "id": "Uh9JsPG3wYG6",
   "metadata": {
    "id": "Uh9JsPG3wYG6"
   },
   "outputs": [],
   "source": [
    "class ODFDataset(Dataset):\n",
    "    def __init__(self, x, y, transform=None):\n",
    "        self.x = x\n",
    "        self.y = y\n",
    "        self.transform = transform\n",
    "        \n",
    "    def __len__(self):\n",
    "        return len(self.x)\n",
    "    \n",
    "    def __getitem__(self, idx):\n",
    "        sample = (self.x[idx], self.y[idx])\n",
    "        return sample"
   ]
  },
  {
   "cell_type": "code",
   "execution_count": null,
   "id": "J4tsned8wYG6",
   "metadata": {
    "id": "J4tsned8wYG6"
   },
   "outputs": [],
   "source": [
    "class NN(nn.Module):\n",
    "    def __init__(self, A):\n",
    "        super().__init__()\n",
    "        self.dim_list = [76, 760, 76]\n",
    "        self.num_layers = len(self.dim_list)\n",
    "        self.weights = nn.ParameterList([nn.Parameter(torch.empty(31, self.dim_list[i], self.dim_list[i+1])) for i in range(self.num_layers-1)])\n",
    "        self.bias = nn.ParameterList([nn.Parameter(torch.empty(31, 1, self.dim_list[i+1])) for i in range(self.num_layers-1)])\n",
    "        self.activations = [nn.Tanh()]*(self.num_layers-2) + [nn.ReLU()]\n",
    "        \n",
    "        self.init_weights()\n",
    "        self.A = torch.Tensor(A).cuda()\n",
    "        \n",
    "    def init_weights(self):\n",
    "        for i in range(self.num_layers-1):\n",
    "            nn.init.xavier_normal_(self.weights[i])\n",
    "            self.bias[i].data.zero_()\n",
    "        \n",
    "    def forward(self, x: torch.Tensor):\n",
    "        y = x[:, None, None, :]\n",
    "        for i in range(self.num_layers-1):\n",
    "            y = y@self.weights[i]+self.bias[i]\n",
    "            y = self.activations[i](y)\n",
    "        pred_y = (y.squeeze())/(y@self.A)\n",
    "\n",
    "        return pred_y"
   ]
  },
  {
   "cell_type": "code",
   "execution_count": null,
   "id": "ItlgZHnS4lje",
   "metadata": {
    "colab": {
     "base_uri": "https://localhost:8080/"
    },
    "id": "ItlgZHnS4lje",
    "outputId": "3e9cafbd-32b5-4271-ffef-5cbdd2ef5496"
   },
   "outputs": [],
   "source": [
    "torch.manual_seed(3407)\n",
    "x = X[:,:76]\n",
    "y = Y[:,:,:76]\n",
    "\n",
    "model = NN(A).cuda()\n",
    "criterion = nn.MSELoss()\n",
    "\n",
    "dst = ODFDataset(x, y)\n",
    "\n",
    "def seed_worker(worker_id):\n",
    "    worker_seed = torch.initial_seed() % 2**32\n",
    "    numpy.random.seed(worker_seed)\n",
    "    random.seed(worker_seed)\n",
    "\n",
    "g = torch.Generator()\n",
    "g.manual_seed(0)\n",
    "\n",
    "train_dst, val_dst = random_split(dst, [4000, 1000])\n",
    "train_loader = DataLoader(train_dst, 128, shuffle=True)\n",
    "val_loader = DataLoader(val_dst, 1000, worker_init_fn=seed_worker, generator=g, shuffle=False)\n",
    "\n",
    "IPT = torch.Tensor(lamda@Q/(min(lamda@Q))).cuda()\n",
    "LOSS = np.empty(0)\n",
    "VAL_LOSS = np.empty(0)\n",
    "VAL_stiferr = []\n",
    "opt = [\n",
    "       (optim.Adam, {\"lr\": 5e-5}, 100),\n",
    "       (optim.SGD, {\"lr\": 1e-4, \"momentum\":.9}, 200),\n",
    "       (optim.Adam, {\"lr\": 2e-5}, 1000),\n",
    "       (optim.Adam, {\"lr\": 1e-4}, 500),\n",
    "       (optim.Adam, {\"lr\": 2e-5}, 1000),\n",
    "       (optim.Adam, {\"lr\": 1e-4}, 500),\n",
    "       (optim.Adam, {\"lr\": 2e-5}, 1000),\n",
    "       ]\n",
    "for i in range(len(opt)):\n",
    "    optimizer = opt[i][0](model.parameters(), **opt[i][1])\n",
    "    for e in tqdm(range(opt[i][2])):\n",
    "        training_loss = 0\n",
    "        for p, q in train_loader:\n",
    "            p = p.cuda()\n",
    "            q = q.cuda()\n",
    "            optimizer.zero_grad()\n",
    "            pred_q = model(p)\n",
    "            loss = criterion(q*IPT, pred_q*IPT)\n",
    "            training_loss += loss\n",
    "            loss.backward()\n",
    "            optimizer.step()\n",
    "        LOSS = np.append(LOSS, training_loss.detach().cpu().numpy())\n",
    "        print(f\"\\nEPOCH {e}: LOSS={training_loss}\")\n",
    "      # print(\"START VALIDATION\")\n",
    "      with torch.no_grad():\n",
    "            for p, q in val_loader:\n",
    "                p = p.cuda()\n",
    "                q = q.cuda()\n",
    "                pred_q = model(p)\n",
    "                val_loss = criterion(q*IPT, pred_q*IPT)\n",
    "                print(f\"LOSS={val_loss}\")\n",
    "                stiff_err = np.mean(abs(pred_q.cpu().numpy()@(lamda@Q)-q.cpu().numpy()@(lamda@Q)), axis=0)\n",
    "                # print(f\"AVG STIFNESS DIFF:{stiff_err}\")\n",
    "                VAL_LOSS = np.append(VAL_LOSS, val_loss.detach().cpu().numpy())\n",
    "                VAL_stiferr.append(stiff_err)"
   ]
  },
  {
   "cell_type": "code",
   "execution_count": null,
   "id": "9MNc7978b8w0",
   "metadata": {
    "id": "9MNc7978b8w0"
   },
   "outputs": [],
   "source": [
    "from numpy.random import multinomial\n",
    "\n",
    "# Searing algorithm\n",
    "def exp_weight_algo(input):\n",
    "    HASH = {}\n",
    "    with torch.no_grad():\n",
    "    for _ in range(1000):\n",
    "        path = []\n",
    "        ipt = input\n",
    "        for i in range(10):\n",
    "            ipt = torch.Tensor(ipt).cuda()\n",
    "            opt = model(ipt).cpu().numpy()\n",
    "            stf = ((opt-ipt.cpu().numpy())@(lamda@Q))[0,:]\n",
    "            if (stf>0).sum()==0:\n",
    "                continue\n",
    "            weights = np.exp(5*stf)\n",
    "            weights = weights/weights.sum()\n",
    "            idx = np.where(multinomial(1, weights) == 1)[0][0]\n",
    "        \n",
    "            ipt = opt[:,idx,:]\n",
    "            path.append(idx)\n",
    "        f_stf = opt[0,idx,:]@(lamda@Q)\n",
    "        HASH[f_stf] = path\n",
    "    return HASH"
   ]
  }
 ],
 "metadata": {
  "accelerator": "GPU",
  "colab": {
   "provenance": []
  },
  "gpuClass": "premium",
  "kernelspec": {
   "display_name": "Python 3 (ipykernel)",
   "language": "python",
   "name": "python3"
  },
  "language_info": {
   "codemirror_mode": {
    "name": "ipython",
    "version": 3
   },
   "file_extension": ".py",
   "mimetype": "text/x-python",
   "name": "python",
   "nbconvert_exporter": "python",
   "pygments_lexer": "ipython3",
   "version": "3.9.12"
  }
 },
 "nbformat": 4,
 "nbformat_minor": 5
}
